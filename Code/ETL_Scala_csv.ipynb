{
 "cells": [
  {
   "cell_type": "markdown",
   "metadata": {},
   "source": [
    "### Import Libraries"
   ]
  },
  {
   "cell_type": "code",
   "execution_count": 13,
   "metadata": {},
   "outputs": [
    {
     "data": {
      "text/plain": [
       "\u001b[32mimport \u001b[39m\u001b[36mscala.io.Source\r\n",
       "\u001b[39m"
      ]
     },
     "execution_count": 13,
     "metadata": {},
     "output_type": "execute_result"
    }
   ],
   "source": [
    "import scala.io.Source"
   ]
  },
  {
   "cell_type": "markdown",
   "metadata": {},
   "source": [
    "### Import Files"
   ]
  },
  {
   "cell_type": "code",
   "execution_count": 14,
   "metadata": {},
   "outputs": [
    {
     "data": {
      "text/plain": [
       "\u001b[36mfilePath\u001b[39m: \u001b[32mString\u001b[39m = \u001b[32m\"C:/Users/ilyas/Documents/Data_Engineering/Projects/Scala_ETL_Projects/Data/Raw_File/songs_2000_2020_50k.csv\"\u001b[39m"
      ]
     },
     "execution_count": 14,
     "metadata": {},
     "output_type": "execute_result"
    }
   ],
   "source": [
    "// Dosya yolunu belirle\n",
    "val filePath = \"C:/Users/ilyas/Documents/Data_Engineering/Projects/Scala_ETL_Projects/Data/Raw_File/songs_2000_2020_50k.csv\"\n"
   ]
  },
  {
   "cell_type": "markdown",
   "metadata": {},
   "source": [
    "### Data Cleaning - Part 1 // Clean column names "
   ]
  },
  {
   "cell_type": "code",
   "execution_count": 15,
   "metadata": {},
   "outputs": [
    {
     "data": {
      "text/plain": [
       "\u001b[36mlines\u001b[39m: \u001b[32mList\u001b[39m[\u001b[32mString\u001b[39m] = \u001b[33mList\u001b[39m(\n",
       "  \u001b[32m\"Title,Artist,Album,Genre,Release Date,Duration,Popularity\"\u001b[39m,\n",
       "  \u001b[32m\"Include name this.,Patrick Anderson,Care.,R&B,2008-01-09,262,71\"\u001b[39m,\n",
       "  \u001b[32m\"Manage west energy.,Eric Miller,Raise get.,Jazz,2011-08-20,187,37\"\u001b[39m,\n",
       "  \u001b[32m\"Evening court painting.,Richard Curry,Sport.,Electronic,2010-05-30,212,58\"\u001b[39m,\n",
       "  \u001b[32m\"Section turn hour.,James Smith,Full.,Hip-Hop,2014-10-12,272,59\"\u001b[39m,\n",
       "  \u001b[32m\"Five agreement teach.,Amy Rodriguez,Eat.,Blues,2005-06-09,131,34\"\u001b[39m,\n",
       "  \u001b[32m\"Turn child.,Jessica Martin,Cold according.,R&B,2006-09-16,207,58\"\u001b[39m,\n",
       "  \u001b[32m\"Old.,Cheyenne Powell,Oil.,Country,2010-04-23,163,72\"\u001b[39m,\n",
       "  \u001b[32m\"Clear fly over.,Aaron Coleman,Strategy development.,Classical,2010-02-06,183,73\"\u001b[39m,\n",
       "  \u001b[32m\"Agency employee present.,Brandon Henderson,Might live.,Country,2020-02-18,243,69\"\u001b[39m,\n",
       "  \u001b[32m\"Face become we.,Raymond White,Probably camera.,Blues,2011-11-07,177,55\"\u001b[39m,\n",
       "  \u001b[32m\"Couple bank.,Paul Stephens,And.,Reggae,2016-03-31,245,76\"\u001b[39m,\n",
       "  \u001b[32m\"Wife subject.,Julie Martin,Of.,Rock,2003-01-27,191,97\"\u001b[39m,\n",
       "  \u001b[32m\"Business research.,Michael Glass,Speak.,Blues,2019-10-12,145,92\"\u001b[39m,\n",
       "  \u001b[32m\"Act majority.,Raymond Ramos,Lead.,Jazz,2015-02-15,282,99\"\u001b[39m,\n",
       "  \u001b[32m\"Party yet.,Mr. Jeffery Harris,North.,R&B,2009-09-28,267,97\"\u001b[39m,\n",
       "  \u001b[32m\"Traditional war with.,Jason Davis,Reveal senior.,Electronic,2006-12-31,226,36\"\u001b[39m,\n",
       "  \u001b[32m\"None possible.,Joseph Allen,Catch from.,Electronic,2020-03-23,136,98\"\u001b[39m,\n",
       "  \u001b[32m\"Give statement.,Charles Gentry,Can.,Classical,2001-05-31,217,89\"\u001b[39m,\n",
       "  \u001b[32m\"Dog call ready member.,Juan Gutierrez,Company modern.,Country,2016-04-19,255,75\"\u001b[39m,\n",
       "  \u001b[32m\"Make.,Brenda Wood,Only local.,Country,2005-12-05,243,48\"\u001b[39m,\n",
       "  \u001b[32m\"Artist sort.,Thomas Webster,By.,Classical,2005-05-01,193,50\"\u001b[39m,\n",
       "  \u001b[32m\"College grow.,Lisa Rodgers,Gas.,Jazz,2003-02-26,147,22\"\u001b[39m,\n",
       "  \u001b[32m\"National maybe.,Kim Johnson,Administration.,Classical,2020-08-06,207,4\"\u001b[39m,\n",
       "  \u001b[32m\"Particularly rock.,Robert Lee,Concern rule.,R&B,2018-11-29,271,100\"\u001b[39m,\n",
       "  \u001b[32m\"Nor case subject.,Jamie Lopez,Couple.,Jazz,2020-07-05,150,98\"\u001b[39m,\n",
       "  \u001b[32m\"Office speak position television.,Jason Rodriguez,Message some.,Jazz,2008-10-07,164,19\"\u001b[39m,\n",
       "  \u001b[32m\"Shoulder candidate.,Jordan Ward,Together.,Jazz,2019-06-15,237,6\"\u001b[39m,\n",
       "  \u001b[32m\"Indicate view authority several.,Bethany Olson,Nation.,Classical,2020-10-17,248,25\"\u001b[39m,\n",
       "  \u001b[32m\"Sure six.,Jamie Thompson,Past step.,Reggae,2017-08-28,212,13\"\u001b[39m,\n",
       "  \u001b[32m\"Describe answer that.,Ryan Alexander,State apply.,Electronic,2017-05-14,261,61\"\u001b[39m,\n",
       "...\r\n",
       "\u001b[36mheader\u001b[39m: \u001b[32mArray\u001b[39m[\u001b[32mString\u001b[39m] = \u001b[33mArray\u001b[39m(\n",
       "  \u001b[32m\"Title\"\u001b[39m,\n",
       "  \u001b[32m\"Artist\"\u001b[39m,\n",
       "  \u001b[32m\"Album\"\u001b[39m,\n",
       "  \u001b[32m\"Genre\"\u001b[39m,\n",
       "  \u001b[32m\"Release Date\"\u001b[39m,\n",
       "  \u001b[32m\"Duration\"\u001b[39m,\n",
       "  \u001b[32m\"Popularity\"\u001b[39m\n",
       ")\r\n",
       "\u001b[36mdataRows\u001b[39m: \u001b[32mList\u001b[39m[\u001b[32mString\u001b[39m] = \u001b[33mList\u001b[39m(\n",
       "  \u001b[32m\"Include name this.,Patrick Anderson,Care.,R&B,2008-01-09,262,71\"\u001b[39m,\n",
       "  \u001b[32m\"Manage west energy.,Eric Miller,Raise get.,Jazz,2011-08-20,187,37\"\u001b[39m,\n",
       "  \u001b[32m\"Evening court painting.,Richard Curry,Sport.,Electronic,2010-05-30,212,58\"\u001b[39m,\n",
       "  \u001b[32m\"Section turn hour.,James Smith,Full.,Hip-Hop,2014-10-12,272,59\"\u001b[39m,\n",
       "  \u001b[32m\"Five agreement teach.,Amy Rodriguez,Eat.,Blues,2005-06-09,131,34\"\u001b[39m,\n",
       "  \u001b[32m\"Turn child.,Jessica Martin,Cold according.,R&B,2006-09-16,207,58\"\u001b[39m,\n",
       "  \u001b[32m\"Old.,Cheyenne Powell,Oil.,Country,2010-04-23,163,72\"\u001b[39m,\n",
       "  \u001b[32m\"Clear fly over.,Aaron Coleman,Strategy development.,Classical,2010-02-06,183,73\"\u001b[39m,\n",
       "  \u001b[32m\"Agency employee present.,Brandon Henderson,Might live.,Country,2020-02-18,243,69\"\u001b[39m,\n",
       "  \u001b[32m\"Face become we.,Raymond White,Probably camera.,Blues,2011-11-07,177,55\"\u001b[39m,\n",
       "  \u001b[32m\"Couple bank.,Paul Stephens,And.,Reggae,2016-03-31,245,76\"\u001b[39m,\n",
       "  \u001b[32m\"Wife subject.,Julie Martin,Of.,Rock,2003-01-27,191,97\"\u001b[39m,\n",
       "  \u001b[32m\"Business research.,Michael Glass,Speak.,Blues,2019-10-12,145,92\"\u001b[39m,\n",
       "  \u001b[32m\"Act majority.,Raymond Ramos,Lead.,Jazz,2015-02-15,282,99\"\u001b[39m,\n",
       "  \u001b[32m\"Party yet.,Mr. Jeffery Harris,North.,R&B,2009-09-28,267,97\"\u001b[39m,\n",
       "  \u001b[32m\"Traditional war with.,Jason Davis,Reveal senior.,Electronic,2006-12-31,226,36\"\u001b[39m,\n",
       "  \u001b[32m\"None possible.,Joseph Allen,Catch from.,Electronic,2020-03-23,136,98\"\u001b[39m,\n",
       "  \u001b[32m\"Give statement.,Charles Gentry,Can.,Classical,2001-05-31,217,89\"\u001b[39m,\n",
       "  \u001b[32m\"Dog call ready member.,Juan Gutierrez,Company modern.,Country,2016-04-19,255,75\"\u001b[39m,\n",
       "  \u001b[32m\"Make.,Brenda Wood,Only local.,Country,2005-12-05,243,48\"\u001b[39m,\n",
       "  \u001b[32m\"Artist sort.,Thomas Webster,By.,Classical,2005-05-01,193,50\"\u001b[39m,\n",
       "  \u001b[32m\"College grow.,Lisa Rodgers,Gas.,Jazz,2003-02-26,147,22\"\u001b[39m,\n",
       "  \u001b[32m\"National maybe.,Kim Johnson,Administration.,Classical,2020-08-06,207,4\"\u001b[39m,\n",
       "  \u001b[32m\"Particularly rock.,Robert Lee,Concern rule.,R&B,2018-11-29,271,100\"\u001b[39m,\n",
       "  \u001b[32m\"Nor case subject.,Jamie Lopez,Couple.,Jazz,2020-07-05,150,98\"\u001b[39m,\n",
       "  \u001b[32m\"Office speak position television.,Jason Rodriguez,Message some.,Jazz,2008-10-07,164,19\"\u001b[39m,\n",
       "  \u001b[32m\"Shoulder candidate.,Jordan Ward,Together.,Jazz,2019-06-15,237,6\"\u001b[39m,\n",
       "  \u001b[32m\"Indicate view authority several.,Bethany Olson,Nation.,Classical,2020-10-17,248,25\"\u001b[39m,\n",
       "  \u001b[32m\"Sure six.,Jamie Thompson,Past step.,Reggae,2017-08-28,212,13\"\u001b[39m,\n",
       "  \u001b[32m\"Describe answer that.,Ryan Alexander,State apply.,Electronic,2017-05-14,261,61\"\u001b[39m,\n",
       "  \u001b[32m\"Stop big.,Jeffrey Moore,Enjoy way.,Classical,2011-11-24,158,22\"\u001b[39m,\n",
       "...\r\n",
       "\u001b[36mdata\u001b[39m: \u001b[32mList\u001b[39m[\u001b[32mMap\u001b[39m[\u001b[32mString\u001b[39m, \u001b[32mString\u001b[39m]] = \u001b[33mList\u001b[39m(\n",
       "  \u001b[33mHashMap\u001b[39m(\n",
       "    \u001b[32m\"Title\"\u001b[39m -> \u001b[32m\"Include name this.\"\u001b[39m,\n",
       "    \u001b[32m\"Duration\"\u001b[39m -> \u001b[32m\"262\"\u001b[39m,\n",
       "    \u001b[32m\"Popularity\"\u001b[39m -> \u001b[32m\"71\"\u001b[39m,\n",
       "    \u001b[32m\"Album\"\u001b[39m -> \u001b[32m\"Care.\"\u001b[39m,\n",
       "    \u001b[32m\"Artist\"\u001b[39m -> \u001b[32m\"Patrick Anderson\"\u001b[39m,\n",
       "    \u001b[32m\"Release Date\"\u001b[39m -> \u001b[32m\"2008-01-09\"\u001b[39m,\n",
       "    \u001b[32m\"Genre\"\u001b[39m -> \u001b[32m\"R&B\"\u001b[39m\n",
       "  ),\n",
       "  \u001b[33mHashMap\u001b[39m(\n",
       "    \u001b[32m\"Title\"\u001b[39m -> \u001b[32m\"Manage west energy.\"\u001b[39m,\n",
       "    \u001b[32m\"Duration\"\u001b[39m -> \u001b[32m\"187\"\u001b[39m,\n",
       "    \u001b[32m\"Popularity\"\u001b[39m -> \u001b[32m\"37\"\u001b[39m,\n",
       "    \u001b[32m\"Album\"\u001b[39m -> \u001b[32m\"Raise get.\"\u001b[39m,\n",
       "    \u001b[32m\"Artist\"\u001b[39m -> \u001b[32m\"Eric Miller\"\u001b[39m,\n",
       "    \u001b[32m\"Release Date\"\u001b[39m -> \u001b[32m\"2011-08-20\"\u001b[39m,\n",
       "    \u001b[32m\"Genre\"\u001b[39m -> \u001b[32m\"Jazz\"\u001b[39m\n",
       "  ),\n",
       "  \u001b[33mHashMap\u001b[39m(\n",
       "    \u001b[32m\"Title\"\u001b[39m -> \u001b[32m\"Evening court painting.\"\u001b[39m,\n",
       "    \u001b[32m\"Duration\"\u001b[39m -> \u001b[32m\"212\"\u001b[39m,\n",
       "    \u001b[32m\"Popularity\"\u001b[39m -> \u001b[32m\"58\"\u001b[39m,\n",
       "    \u001b[32m\"Album\"\u001b[39m -> \u001b[32m\"Sport.\"\u001b[39m,\n",
       "    \u001b[32m\"Artist\"\u001b[39m -> \u001b[32m\"Richard Curry\"\u001b[39m,\n",
       "    \u001b[32m\"Release Date\"\u001b[39m -> \u001b[32m\"2010-05-30\"\u001b[39m,\n",
       "    \u001b[32m\"Genre\"\u001b[39m -> \u001b[32m\"Electronic\"\u001b[39m\n",
       "  ),\n",
       "  \u001b[33mHashMap\u001b[39m(\n",
       "    \u001b[32m\"Title\"\u001b[39m -> \u001b[32m\"Section turn hour.\"\u001b[39m,\n",
       "    \u001b[32m\"Duration\"\u001b[39m -> \u001b[32m\"272\"\u001b[39m,\n",
       "    \u001b[32m\"Popularity\"\u001b[39m -> \u001b[32m\"59\"\u001b[39m,\n",
       "    \u001b[32m\"Album\"\u001b[39m -> \u001b[32m\"Full.\"\u001b[39m,\n",
       "    \u001b[32m\"Artist\"\u001b[39m -> \u001b[32m\"James Smith\"\u001b[39m,\n",
       "    \u001b[32m\"Release Date\"\u001b[39m -> \u001b[32m\"2014-10-12\"\u001b[39m,\n",
       "    \u001b[32m\"Genre\"\u001b[39m -> \u001b[32m\"Hip-Hop\"\u001b[39m\n",
       "  ),\n",
       "  \u001b[33mHashMap\u001b[39m(\n",
       "    \u001b[32m\"Title\"\u001b[39m -> \u001b[32m\"Five agreement teach.\"\u001b[39m,\n",
       "..."
      ]
     },
     "execution_count": 15,
     "metadata": {},
     "output_type": "execute_result"
    }
   ],
   "source": [
    "// Dosyayı oku ve satırları al\n",
    "val lines = Source.fromFile(filePath).getLines().toList\n",
    "\n",
    "// Başlık ve veri satırlarını ayır\n",
    "val header = lines.head.split(\",\").map(_.trim)\n",
    "val dataRows = lines.tail\n",
    "\n",
    "// Satırları sütun adı ve değeri ile eşleştiriyoruz\n",
    "val data = dataRows.map { row =>\n",
    "  val columns = row.split(\",\").map(_.trim)\n",
    "  header.zip(columns).toMap\n",
    "}"
   ]
  },
  {
   "cell_type": "code",
   "execution_count": 16,
   "metadata": {},
   "outputs": [
    {
     "name": "stdout",
     "output_type": "stream",
     "text": [
      "Title | Artist | Album | Genre | Release Date | Duration | Popularity\n",
      "--------------------------------------------------\n",
      "Include name this. | Patrick Anderson | Care. | R&B | 2008-01-09 | 262 | 71\n",
      "Manage west energy. | Eric Miller | Raise get. | Jazz | 2011-08-20 | 187 | 37\n",
      "Evening court painting. | Richard Curry | Sport. | Electronic | 2010-05-30 | 212 | 58\n",
      "Section turn hour. | James Smith | Full. | Hip-Hop | 2014-10-12 | 272 | 59\n",
      "Five agreement teach. | Amy Rodriguez | Eat. | Blues | 2005-06-09 | 131 | 34\n"
     ]
    }
   ],
   "source": [
    "// Başlıkları yazdır\n",
    "println(header.mkString(\" | \"))\n",
    "\n",
    "// Ayırıcı bir çizgi\n",
    "println(\"-\" * 50)\n",
    "\n",
    "// İlk 5 satırı yazdır\n",
    "data.take(5).foreach { row =>\n",
    "  println(header.map(h => row.getOrElse(h, \"\")).mkString(\" | \"))\n",
    "}\n"
   ]
  },
  {
   "cell_type": "markdown",
   "metadata": {},
   "source": [
    "### Data Cleaning - Part 2 // Fill the NaN Values"
   ]
  },
  {
   "cell_type": "code",
   "execution_count": null,
   "metadata": {},
   "outputs": [],
   "source": [
    "import java.time.LocalDate\n",
    "import scala.util.Try\n",
    "\n",
    "// Veri temizleme ve dönüştürme işlemi\n",
    "val cleanedData = data.map { row =>\n",
    "  // Eksik verileri işleme\n",
    "  val title = row.getOrElse(\"Title\", \"Unknown Title\")\n",
    "  val artist = row.getOrElse(\"Artist\", \"Unknown Artist\")\n",
    "  val album = row.getOrElse(\"Album\", \"Unknown Album\")\n",
    "  val genre = row.getOrElse(\"Genre\", \"Unknown Genre\")\n",
    "  \n",
    "  // Duration ve Popularity sütunlarını sayısal değerlere çevirme\n",
    "  val duration = Try(row.getOrElse(\"Duration\", \"0\").toInt).getOrElse(0)\n",
    "  val popularity = Try(row.getOrElse(\"Popularity\", \"0\").toInt).getOrElse(0)\n",
    "\n",
    "  // Tarih sütununu (Release Date) yerel tarih formatına çevirme\n",
    "  val releaseDate = Try(LocalDate.parse(row.getOrElse(\"Release Date\", \"2000-01-01\"))).getOrElse(LocalDate.of(2000, 1, 1))\n",
    "\n",
    "  // Dönüştürülmüş veriyi yeni bir Map olarak döndür\n",
    "  Map(\n",
    "    \"Title\" -> title,\n",
    "    \"Artist\" -> artist,\n",
    "    \"Album\" -> album,\n",
    "    \"Genre\" -> genre,\n",
    "    \"Duration\" -> duration.toString,\n",
    "    \"Popularity\" -> popularity.toString,\n",
    "    \"Release Date\" -> releaseDate.toString\n",
    "  )\n",
    "}\n",
    "\n",
    "// İlk 5 satırı formatlı şekilde gösterelim\n",
    "println(header.mkString(\" | \"))\n",
    "println(\"-\" * 50)\n",
    "cleanedData.take(5).foreach { row =>\n",
    "  println(header.map(h => row.getOrElse(h, \"\")).mkString(\" | \"))\n",
    "}\n"
   ]
  },
  {
   "cell_type": "code",
   "execution_count": null,
   "metadata": {},
   "outputs": [],
   "source": []
  }
 ],
 "metadata": {
  "kernelspec": {
   "display_name": "Scala",
   "language": "scala",
   "name": "scala"
  },
  "language_info": {
   "codemirror_mode": "text/x-scala",
   "file_extension": ".sc",
   "mimetype": "text/x-scala",
   "name": "scala",
   "nbconvert_exporter": "script",
   "version": "2.13.14"
  }
 },
 "nbformat": 4,
 "nbformat_minor": 2
}
